{
 "cells": [
  {
   "cell_type": "code",
   "execution_count": null,
   "id": "bb9e062d",
   "metadata": {},
   "outputs": [],
   "source": [
    "#Find nth fibonacci number. If it starts with 0,1,1,2.....\n",
    "\n",
    "#Also, Print Incorrect Input if n is less than or equal to 0.\n",
    "\n",
    "#Input Format:\n",
    "\n",
    "#Call the function with n\n",
    "\n",
    "#Output Format:\n",
    "\n",
    "#Print the nth fibonacci number\n",
    "\n",
    "#Sample Input 0:\n",
    "#4\n",
    "\n",
    "#Sample Output 0:\n",
    "#2\n",
    "\n",
    "#Sample Input 1:\n",
    "#0\n",
    "\n",
    "#Sample Output 1:\n",
    "#Incorrect input"
   ]
  },
  {
   "cell_type": "code",
   "execution_count": 11,
   "id": "17abbe86",
   "metadata": {},
   "outputs": [
    {
     "name": "stdout",
     "output_type": "stream",
     "text": [
      "Enter the Sample input : 4\n",
      "Sample output: 2\n"
     ]
    }
   ],
   "source": [
    "# Solution number 1\n",
    "def fibbonaci(n):\n",
    "    if n<=0:\n",
    "        return \"incorrect input\"\n",
    "    else:\n",
    "        z=[]\n",
    "        a=0\n",
    "        z.append(a)\n",
    "        b=1\n",
    "        z.append(b)\n",
    "        for i in range(n-1):\n",
    "            c=a+b\n",
    "            z.append(c)\n",
    "            a=b\n",
    "            b=c\n",
    "        return z[n-1]\n",
    "n=int(input(\"Enter the Sample input : \"))\n",
    "m=fibbonaci(n)\n",
    "print(\"Sample output:\", m)"
   ]
  },
  {
   "cell_type": "code",
   "execution_count": 15,
   "id": "e99f0930",
   "metadata": {},
   "outputs": [
    {
     "name": "stdout",
     "output_type": "stream",
     "text": [
      "Enter the Sample input : 0\n",
      "Sample output: incorrect input\n"
     ]
    }
   ],
   "source": [
    "\n",
    "def fibbonaci(n):\n",
    "    if n<=0:\n",
    "        return \"incorrect input\"\n",
    "    else:\n",
    "        z=[]\n",
    "        a=0\n",
    "        z.append(a)\n",
    "        b=1\n",
    "        z.append(b)\n",
    "        for i in range(n-1):\n",
    "            c=a+b\n",
    "            z.append(c)\n",
    "            a=b\n",
    "            b=c\n",
    "        return z[n-1]\n",
    "n=int(input(\"Enter the Sample input : \"))\n",
    "m=fibbonaci(n)\n",
    "print(\"Sample output:\", m)"
   ]
  },
  {
   "cell_type": "code",
   "execution_count": 14,
   "id": "77334ef0",
   "metadata": {},
   "outputs": [
    {
     "name": "stdout",
     "output_type": "stream",
     "text": [
      "Enter the Sample input : 4\n",
      "2\n"
     ]
    }
   ],
   "source": [
    "## Solution number 2\n",
    "def Fibonacci(n):\n",
    "    if n<= 0:\n",
    "        return \"incorrect input\"\n",
    "        \n",
    "    elif n == 1:\n",
    "        return 0\n",
    "    elif n == 2:\n",
    "        return 1\n",
    "    else:\n",
    "        return Fibonacci(n-1)+Fibonacci(n-2)\n",
    " \n",
    "\n",
    "n=int(input(\"Enter the Sample input : \"))\n",
    "m=(Fibonacci(n))\n",
    "print(m)"
   ]
  },
  {
   "cell_type": "code",
   "execution_count": 16,
   "id": "707b21cf",
   "metadata": {},
   "outputs": [
    {
     "name": "stdout",
     "output_type": "stream",
     "text": [
      "Enter the Sample input : 0\n",
      "incorrect input\n"
     ]
    }
   ],
   "source": [
    "def Fibonacci(n):\n",
    "    if n<= 0:\n",
    "        return \"incorrect input\"\n",
    "        \n",
    "    elif n == 1:\n",
    "        return 0\n",
    "    elif n == 2:\n",
    "        return 1\n",
    "    else:\n",
    "        return Fibonacci(n-1)+Fibonacci(n-2)\n",
    " \n",
    "\n",
    "n=int(input(\"Enter the Sample input : \"))\n",
    "m=(Fibonacci(n))\n",
    "print(m)"
   ]
  },
  {
   "cell_type": "code",
   "execution_count": null,
   "id": "522fcb48",
   "metadata": {},
   "outputs": [],
   "source": []
  }
 ],
 "metadata": {
  "kernelspec": {
   "display_name": "Python 3 (ipykernel)",
   "language": "python",
   "name": "python3"
  },
  "language_info": {
   "codemirror_mode": {
    "name": "ipython",
    "version": 3
   },
   "file_extension": ".py",
   "mimetype": "text/x-python",
   "name": "python",
   "nbconvert_exporter": "python",
   "pygments_lexer": "ipython3",
   "version": "3.9.13"
  }
 },
 "nbformat": 4,
 "nbformat_minor": 5
}
